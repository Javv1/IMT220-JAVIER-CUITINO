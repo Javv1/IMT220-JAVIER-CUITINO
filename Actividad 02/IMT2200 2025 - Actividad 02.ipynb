{
 "cells": [
  {
   "cell_type": "markdown",
   "id": "a6311079",
   "metadata": {},
   "source": [
    "# <img style=\"float: left; padding-right: 20px; width: 200px\" src=\"https://raw.githubusercontent.com/raxlab/imt2200-data/main/media/logo.jpg\">  IMT 2200 - Introducción a Ciencia de Datos\n",
    "**Pontificia Universidad Católica de Chile**<br>\n",
    "**Instituto de Ingeniería Matemática y Computacional**<br>\n",
    "**Semestre 2025-S2**<br>\n",
    "**Profesor:** Rodrigo A. Carrasco <br>"
   ]
  },
  {
   "cell_type": "markdown",
   "id": "5ea9347c",
   "metadata": {},
   "source": [
    "# <h1><center>Actividad 02: Extracción y Revisión de Datos</center></h1>\n",
    "\n",
    "Esta actividad busca aplicar lo que acabamos de ver en clases sobre extracción de datos y conectarlo con la materia de \"Tipos de Datos\" que hemos visto en las clases pasadas."
   ]
  },
  {
   "cell_type": "markdown",
   "id": "a2c54596",
   "metadata": {},
   "source": [
    "## Instrucciones\n",
    "\n",
    "Esto Notebook contiene las instrucciones a realizar para la actividad. \n",
    "\n",
    "<b>Al finalizarla, deben subir el Notebook y los archivos generados en un único archivo .zip, al módulo de la Actividad 02 en Canvas.</b>\n",
    "\n",
    "Para esta actividad deben hacer lo siguiente:\n",
    "<ol>\n",
    "<li>Extraer datos</li>\n",
    "\n",
    "Para esta actividad usaremos [**PokeAPI**](https://pokeapi.co/about), una interfaz de código abierto con información detallada relacionada a los videojuegos de Pokémon.\n",
    "    \n",
    "En esta actividad nos concentraremos en comparar las características básicas de los 151 pokémon originales. Para obtener la información de un pokémon, utilizaremos el siguiente URL:\n",
    "\n",
    "```\n",
    "https://pokeapi.co/api/v2/pokemon/{id_pokemon}\n",
    "```\n",
    "\n",
    "Donde `{id_pokemon}` es el identificador del pokémon (un número entero). \n",
    "    \n",
    "<br>\n",
    "\n",
    "<li>Formato</li>\n",
    "\n",
    "¿En qué formato están los datos descargados? Identifique si son datos estructurados, semi-estructurados o no estructurados, explicando claramente por qué los categoriza así.\n",
    "\n",
    "<br>\n",
    "    \n",
    "<li>DataFrame de análisis</li>\n",
    "\n",
    "Construya un DataFrame con al menos las siguientes columnas: `name, type1, type2, hp, attack, defense, special-attack, special-defense, speed`. En caso de que un pokémon tenga solo un tipo, puede dejar su atributo `type2 = None`. Guarde este nuevo set de datos en un archivo CSV.\n",
    "\n",
    "**Hint:** Inspeccione el atributo `stats` y `types` de las respuestas obtenidas. El valor que debe almacenar en el DataFrame estará bajó el nombre `base_stat`.\n",
    "    \n",
    "<br>\n",
    "    \n",
    "<li>Preguntas</li>\n",
    "\n",
    "A partir de su nuevo dataset, responda las siguientes preguntas:\n",
    "\n",
    "4.1 ¿Cuál son los 3 tipos (fuego, agua, tierra, etc.) más comunes en los pokémones de la primera generación?\n",
    "    \n",
    "4.2 ¿Cuál es el pokémon más rápido? ¿Y el más lento?\n",
    "\n",
    "4.3 Genere una nueva columna en el DataFrame llamada `total-stats` que consista en la suma de todos los stats de un pokémon (`hp, attack, defense, special-attack, special-defense, speed`) y grafique un histograma de esta nueva variable. ¿Cuál es el rango de valores"
   ]
  },
  {
   "cell_type": "markdown",
   "id": "f66e4487",
   "metadata": {},
   "source": [
    "## Rúbrica\n",
    "\n",
    "- Si han hecho todo y sólo hay errores menores: 7.0\n",
    "- Si sólo llegaron hasta la parte 3: 5.0\n",
    "- Menos que eso: 1.0"
   ]
  },
  {
   "cell_type": "markdown",
   "id": "c6494636",
   "metadata": {},
   "source": [
    "## 1. Extraer datos\n",
    "\n",
    "Utilizando el URL indicado en el enunciado, obtenga la información de los primeros 151 pokémones y guárdelos en una lista llamada `pokemones`. \n",
    "\n",
    "Para ello debe usar un `for` que itere sobre los diferentes IDs de pokemon y rescate la información de cada uno de ellos, concatenándola en una lista. Antes de iterar sobre los 151 pokemones, pruebe con 1 o 2 y una vez que verifique que su código está funcionando, aplique a los 151 primeros pokemones."
   ]
  },
  {
   "cell_type": "code",
   "execution_count": 111,
   "id": "c92f4791",
   "metadata": {},
   "outputs": [],
   "source": [
    "import requests\n",
    "import pandas as pd\n",
    "from pathlib import Path\n"
   ]
  },
  {
   "cell_type": "code",
   "execution_count": 112,
   "id": "1b24d932",
   "metadata": {},
   "outputs": [],
   "source": [
    "out_dir = Path(\"data\")\n",
    "out_dir.mkdir(exist_ok=True)\n",
    "path = out_dir / \"pokemones.json\""
   ]
  },
  {
   "cell_type": "code",
   "execution_count": 113,
   "id": "c21068e6",
   "metadata": {},
   "outputs": [],
   "source": [
    "todos_pokemon = []\n",
    "for i in range(1, 152):\n",
    "    id_pokemon = i\n",
    "    url = f\"https://pokeapi.co/api/v2/pokemon/{id_pokemon}\"\n",
    "    r = requests.get(url, timeout=30)\n",
    "    if r.status_code == 200:\n",
    "        todos_pokemon.append(r.content)\n",
    "    else:\n",
    "        print(f\"Error con Pokémon {id_pokemon}: {r.status_code}\")"
   ]
  },
  {
   "cell_type": "code",
   "execution_count": 114,
   "id": "976637c7",
   "metadata": {},
   "outputs": [],
   "source": [
    "with open(path, \"wb\") as f:\n",
    "    f.write(b\"[\") \n",
    "    for i, content in enumerate(todos_pokemon):\n",
    "        f.write(content)\n",
    "        if i != len(todos_pokemon) - 1:\n",
    "            f.write(b\",\\n\")  \n",
    "    f.write(b\"]\") "
   ]
  },
  {
   "cell_type": "markdown",
   "id": "fc8f49d7",
   "metadata": {},
   "source": [
    "## 2. Formato de datos\n",
    "\n",
    "Revise la lista que almacenó en `pokemones` y coméntenos en qué formato están los datos y qué tipos de datos serían estos (estructurados, semi-estructurados, no estructurados).\n",
    "\n",
    "Respuesta:"
   ]
  },
  {
   "cell_type": "markdown",
   "id": "c5b09ba8",
   "metadata": {},
   "source": [
    "estan en formato json, y son datos semiestructurados"
   ]
  },
  {
   "cell_type": "markdown",
   "id": "ff451ed0",
   "metadata": {},
   "source": [
    "## 3. DataFrame de análisis\n",
    "\n",
    "Construya ahor un DataFrame para poder analizar los datos posteriormente. Revise las columnas mínimas que debe tener según el enunciado inicial."
   ]
  },
  {
   "cell_type": "code",
   "execution_count": null,
   "id": "facecb52",
   "metadata": {},
   "outputs": [],
   "source": [
    "import pandas as pd\n",
    "import json\n"
   ]
  },
  {
   "cell_type": "code",
   "execution_count": 133,
   "id": "79aa81ff",
   "metadata": {},
   "outputs": [],
   "source": [
    "with open(\"data/pokemones.json\", \"r\", encoding=\"utf-8\") as f:\n",
    "    todos_pokemon = json.load(f) \n"
   ]
  },
  {
   "cell_type": "code",
   "execution_count": null,
   "id": "1c05850b",
   "metadata": {
    "vscode": {
     "languageId": "swift"
    }
   },
   "outputs": [
    {
     "name": "stdout",
     "output_type": "stream",
     "text": [
      "Index(['abilities', 'base_experience', 'cries', 'forms', 'game_indices',\n",
      "       'height', 'held_items', 'id', 'is_default', 'location_area_encounters',\n",
      "       'moves', 'name', 'order', 'past_abilities', 'past_types', 'species',\n",
      "       'sprites', 'stats', 'types', 'weight'],\n",
      "      dtype='object')\n"
     ]
    },
    {
     "data": {
      "text/plain": [
       "0      [{'slot': 1, 'type': {'name': 'grass', 'url': ...\n",
       "1      [{'slot': 1, 'type': {'name': 'grass', 'url': ...\n",
       "2      [{'slot': 1, 'type': {'name': 'grass', 'url': ...\n",
       "3      [{'slot': 1, 'type': {'name': 'fire', 'url': '...\n",
       "4      [{'slot': 1, 'type': {'name': 'fire', 'url': '...\n",
       "                             ...                        \n",
       "146    [{'slot': 1, 'type': {'name': 'dragon', 'url':...\n",
       "147    [{'slot': 1, 'type': {'name': 'dragon', 'url':...\n",
       "148    [{'slot': 1, 'type': {'name': 'dragon', 'url':...\n",
       "149    [{'slot': 1, 'type': {'name': 'psychic', 'url'...\n",
       "150    [{'slot': 1, 'type': {'name': 'psychic', 'url'...\n",
       "Name: types, Length: 151, dtype: object"
      ]
     },
     "execution_count": 132,
     "metadata": {},
     "output_type": "execute_result"
    }
   ],
   "source": []
  },
  {
   "cell_type": "code",
   "execution_count": 139,
   "id": "eecd1cbc",
   "metadata": {},
   "outputs": [
    {
     "name": "stdout",
     "output_type": "stream",
     "text": [
      "Index(['abilities', 'base_experience', 'cries', 'forms', 'game_indices',\n",
      "       'height', 'held_items', 'id', 'is_default', 'location_area_encounters',\n",
      "       'moves', 'name', 'order', 'past_abilities', 'past_types', 'species',\n",
      "       'sprites', 'stats', 'types', 'weight'],\n",
      "      dtype='object')\n",
      "                                           abilities  base_experience  \\\n",
      "0  [{'ability': {'name': 'overgrow', 'url': 'http...               64   \n",
      "1  [{'ability': {'name': 'overgrow', 'url': 'http...              142   \n",
      "2  [{'ability': {'name': 'overgrow', 'url': 'http...              236   \n",
      "3  [{'ability': {'name': 'blaze', 'url': 'https:/...               62   \n",
      "4  [{'ability': {'name': 'blaze', 'url': 'https:/...              142   \n",
      "\n",
      "                                               cries  \\\n",
      "0  {'latest': 'https://raw.githubusercontent.com/...   \n",
      "1  {'latest': 'https://raw.githubusercontent.com/...   \n",
      "2  {'latest': 'https://raw.githubusercontent.com/...   \n",
      "3  {'latest': 'https://raw.githubusercontent.com/...   \n",
      "4  {'latest': 'https://raw.githubusercontent.com/...   \n",
      "\n",
      "                                               forms  \\\n",
      "0  [{'name': 'bulbasaur', 'url': 'https://pokeapi...   \n",
      "1  [{'name': 'ivysaur', 'url': 'https://pokeapi.c...   \n",
      "2  [{'name': 'venusaur', 'url': 'https://pokeapi....   \n",
      "3  [{'name': 'charmander', 'url': 'https://pokeap...   \n",
      "4  [{'name': 'charmeleon', 'url': 'https://pokeap...   \n",
      "\n",
      "                                        game_indices  height held_items  id  \\\n",
      "0  [{'game_index': 153, 'version': {'name': 'red'...       7         []   1   \n",
      "1  [{'game_index': 9, 'version': {'name': 'red', ...      10         []   2   \n",
      "2  [{'game_index': 154, 'version': {'name': 'red'...      20         []   3   \n",
      "3  [{'game_index': 176, 'version': {'name': 'red'...       6         []   4   \n",
      "4  [{'game_index': 178, 'version': {'name': 'red'...      11         []   5   \n",
      "\n",
      "   is_default                        location_area_encounters  \\\n",
      "0        True  https://pokeapi.co/api/v2/pokemon/1/encounters   \n",
      "1        True  https://pokeapi.co/api/v2/pokemon/2/encounters   \n",
      "2        True  https://pokeapi.co/api/v2/pokemon/3/encounters   \n",
      "3        True  https://pokeapi.co/api/v2/pokemon/4/encounters   \n",
      "4        True  https://pokeapi.co/api/v2/pokemon/5/encounters   \n",
      "\n",
      "                                               moves        name  order  \\\n",
      "0  [{'move': {'name': 'razor-wind', 'url': 'https...   bulbasaur      1   \n",
      "1  [{'move': {'name': 'swords-dance', 'url': 'htt...     ivysaur      2   \n",
      "2  [{'move': {'name': 'swords-dance', 'url': 'htt...    venusaur      3   \n",
      "3  [{'move': {'name': 'mega-punch', 'url': 'https...  charmander      5   \n",
      "4  [{'move': {'name': 'mega-punch', 'url': 'https...  charmeleon      6   \n",
      "\n",
      "                                      past_abilities past_types  \\\n",
      "0  [{'abilities': [{'ability': None, 'is_hidden':...         []   \n",
      "1  [{'abilities': [{'ability': None, 'is_hidden':...         []   \n",
      "2  [{'abilities': [{'ability': None, 'is_hidden':...         []   \n",
      "3  [{'abilities': [{'ability': None, 'is_hidden':...         []   \n",
      "4  [{'abilities': [{'ability': None, 'is_hidden':...         []   \n",
      "\n",
      "                                             species  \\\n",
      "0  {'name': 'bulbasaur', 'url': 'https://pokeapi....   \n",
      "1  {'name': 'ivysaur', 'url': 'https://pokeapi.co...   \n",
      "2  {'name': 'venusaur', 'url': 'https://pokeapi.c...   \n",
      "3  {'name': 'charmander', 'url': 'https://pokeapi...   \n",
      "4  {'name': 'charmeleon', 'url': 'https://pokeapi...   \n",
      "\n",
      "                                             sprites  \\\n",
      "0  {'back_default': 'https://raw.githubuserconten...   \n",
      "1  {'back_default': 'https://raw.githubuserconten...   \n",
      "2  {'back_default': 'https://raw.githubuserconten...   \n",
      "3  {'back_default': 'https://raw.githubuserconten...   \n",
      "4  {'back_default': 'https://raw.githubuserconten...   \n",
      "\n",
      "                                               stats  \\\n",
      "0  [{'base_stat': 45, 'effort': 0, 'stat': {'name...   \n",
      "1  [{'base_stat': 60, 'effort': 0, 'stat': {'name...   \n",
      "2  [{'base_stat': 80, 'effort': 0, 'stat': {'name...   \n",
      "3  [{'base_stat': 39, 'effort': 0, 'stat': {'name...   \n",
      "4  [{'base_stat': 58, 'effort': 0, 'stat': {'name...   \n",
      "\n",
      "                                               types  weight  \n",
      "0  [{'slot': 1, 'type': {'name': 'grass', 'url': ...      69  \n",
      "1  [{'slot': 1, 'type': {'name': 'grass', 'url': ...     130  \n",
      "2  [{'slot': 1, 'type': {'name': 'grass', 'url': ...    1000  \n",
      "3  [{'slot': 1, 'type': {'name': 'fire', 'url': '...      85  \n",
      "4  [{'slot': 1, 'type': {'name': 'fire', 'url': '...     190  \n",
      "0      [{'base_stat': 45, 'effort': 0, 'stat': {'name...\n",
      "1      [{'base_stat': 60, 'effort': 0, 'stat': {'name...\n",
      "2      [{'base_stat': 80, 'effort': 0, 'stat': {'name...\n",
      "3      [{'base_stat': 39, 'effort': 0, 'stat': {'name...\n",
      "4      [{'base_stat': 58, 'effort': 0, 'stat': {'name...\n",
      "                             ...                        \n",
      "146    [{'base_stat': 41, 'effort': 0, 'stat': {'name...\n",
      "147    [{'base_stat': 61, 'effort': 0, 'stat': {'name...\n",
      "148    [{'base_stat': 91, 'effort': 0, 'stat': {'name...\n",
      "149    [{'base_stat': 106, 'effort': 0, 'stat': {'nam...\n",
      "150    [{'base_stat': 100, 'effort': 3, 'stat': {'nam...\n",
      "Name: stats, Length: 151, dtype: object\n"
     ]
    }
   ],
   "source": [
    "df = pd.DataFrame(todos_pokemon)\n",
    "print(df.keys())\n",
    "print(df.head())\n",
    "#print(df[\"abilities\"])\n",
    "#print(df[\"types\"])\n",
    "#print(df.columns)\n",
    "print(df[\"stats\"])\n"
   ]
  },
  {
   "cell_type": "markdown",
   "id": "afeb0222",
   "metadata": {},
   "source": [
    "## 4. Preguntas"
   ]
  },
  {
   "cell_type": "markdown",
   "id": "5e1dd5c3",
   "metadata": {},
   "source": [
    "#### 4.1 ¿Cuál son los 3 tipos (*water, fire, ground,* etc.) más comunes en los pokémones de la primera generación?"
   ]
  },
  {
   "cell_type": "code",
   "execution_count": 135,
   "id": "5c12a705",
   "metadata": {},
   "outputs": [
    {
     "name": "stdout",
     "output_type": "stream",
     "text": [
      "[('poison', 33), ('water', 32), ('normal', 22)]\n"
     ]
    }
   ],
   "source": [
    "from collections import Counter\n",
    "all_types = []\n",
    "for t in df['types']:\n",
    "    all_types.extend([d['type']['name'] for d in t])\n",
    "type_counts = Counter(all_types)\n",
    "\n",
    "print(type_counts.most_common(3))"
   ]
  },
  {
   "cell_type": "markdown",
   "id": "16247f38",
   "metadata": {},
   "source": [
    "Los tipos mas comunes son poison, water y normal\n"
   ]
  },
  {
   "cell_type": "markdown",
   "id": "88950550",
   "metadata": {},
   "source": [
    "El tipo más común es: poison"
   ]
  },
  {
   "cell_type": "markdown",
   "id": "584f524f",
   "metadata": {},
   "source": [
    "#### 4.2 ¿Cuál es el pokémon más rápido? ¿Y el más lento?"
   ]
  },
  {
   "cell_type": "code",
   "execution_count": null,
   "id": "1cb9fb99",
   "metadata": {},
   "outputs": [],
   "source": [
    "from collections import Counter\n",
    "all_types = []\n",
    "for t in df['types']:\n",
    "    all_types.extend([d['type']['name'] for d in t])\n",
    "type_counts = Counter(all_types)\n",
    "\n",
    "print(type_counts.most_common(3))"
   ]
  },
  {
   "cell_type": "markdown",
   "id": "9940aedb",
   "metadata": {},
   "source": [
    "El pokémon más rápido es:"
   ]
  },
  {
   "cell_type": "markdown",
   "id": "3212213a",
   "metadata": {},
   "source": [
    "#### 4.3 Genere una nueva columna en el DataFrame llamada `total-stats` que consista en la suma de todos los stats de un pokémon (`hp, attack, defense, special-attack, special-defense, speed`) ¿Cuáles son los valores mínimo y máximo de esta nueva variable?"
   ]
  },
  {
   "cell_type": "code",
   "execution_count": null,
   "id": "b54b12d1",
   "metadata": {},
   "outputs": [],
   "source": []
  },
  {
   "cell_type": "markdown",
   "id": "b7f34ada",
   "metadata": {},
   "source": [
    "El valor máximo lo tiene:\n",
    "\n",
    "y el mínimo lo tiene:"
   ]
  },
  {
   "cell_type": "markdown",
   "id": "e098861c",
   "metadata": {},
   "source": [
    "#### 4.4 Grafique un histograma de `total-stats` y comente brevemente lo que observa de la distribución de este atributo."
   ]
  },
  {
   "cell_type": "code",
   "execution_count": null,
   "id": "74fab9f7",
   "metadata": {},
   "outputs": [],
   "source": [
    "import matplotlib.pyplot as plt\n"
   ]
  },
  {
   "cell_type": "markdown",
   "id": "e8ab882d",
   "metadata": {},
   "source": [
    "Descripción:"
   ]
  }
 ],
 "metadata": {
  "kernelspec": {
   "display_name": "Python 3",
   "language": "python",
   "name": "python3"
  },
  "language_info": {
   "codemirror_mode": {
    "name": "ipython",
    "version": 3
   },
   "file_extension": ".py",
   "mimetype": "text/x-python",
   "name": "python",
   "nbconvert_exporter": "python",
   "pygments_lexer": "ipython3",
   "version": "3.11.7"
  }
 },
 "nbformat": 4,
 "nbformat_minor": 5
}
